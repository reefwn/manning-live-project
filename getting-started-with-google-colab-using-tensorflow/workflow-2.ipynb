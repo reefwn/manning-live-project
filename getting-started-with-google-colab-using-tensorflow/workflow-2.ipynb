{
  "nbformat": 4,
  "nbformat_minor": 0,
  "metadata": {
    "colab": {
      "name": "WorkFlow-2.ipynb",
      "provenance": [],
      "collapsed_sections": [],
      "mount_file_id": "1gEdGRfWRi7XpihK8kPvCZWMbHLXFoTKj",
      "authorship_tag": "ABX9TyP7KAvi2h4PAYKNGvsc2Pck",
      "include_colab_link": true
    },
    "kernelspec": {
      "name": "python3",
      "display_name": "Python 3"
    },
    "language_info": {
      "name": "python"
    },
    "accelerator": "TPU"
  },
  "cells": [
    {
      "cell_type": "markdown",
      "metadata": {
        "id": "view-in-github",
        "colab_type": "text"
      },
      "source": [
        "<a href=\"https://colab.research.google.com/github/reefwn/manning-live-project/blob/main/getting-started-with-google-colab-using-tensorflow/workflow-2.ipynb\" target=\"_parent\"><img src=\"https://colab.research.google.com/assets/colab-badge.svg\" alt=\"Open In Colab\"/></a>"
      ]
    },
    {
      "cell_type": "markdown",
      "metadata": {
        "id": "990SEAIXZ8vX"
      },
      "source": [
        "#### 1. Start a new Notebook."
      ]
    },
    {
      "cell_type": "markdown",
      "metadata": {
        "id": "IWck-gWyaFbi"
      },
      "source": [
        "#### 2. Set the runtime environment to TPU. Go to **Runtime>Change runtime type**. Then select TPU from the dropdown menu under **hardware accelerator**.\n",
        "\n"
      ]
    },
    {
      "cell_type": "markdown",
      "metadata": {
        "id": "aVSXLreQaN4Y"
      },
      "source": [
        "![image.png](data:image/png;base64,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)"
      ]
    },
    {
      "cell_type": "markdown",
      "metadata": {
        "id": "SKWX11RAabAR"
      },
      "source": [
        "#### 3. Mount your Google Drive."
      ]
    },
    {
      "cell_type": "code",
      "metadata": {
        "colab": {
          "base_uri": "https://localhost:8080/"
        },
        "id": "jRL2fWdhgfDS",
        "outputId": "9d5896a6-5b5d-46d2-edc0-a4a4b20a5e4a"
      },
      "source": [
        "from google.colab import drive\n",
        "drive.mount('/content/drive')"
      ],
      "execution_count": null,
      "outputs": [
        {
          "output_type": "stream",
          "text": [
            "Drive already mounted at /content/drive; to attempt to forcibly remount, call drive.mount(\"/content/drive\", force_remount=True).\n"
          ],
          "name": "stdout"
        }
      ]
    },
    {
      "cell_type": "markdown",
      "metadata": {
        "id": "yuzqDDDgapqU"
      },
      "source": [
        "#### 4. Load the SMS Spam Collection data."
      ]
    },
    {
      "cell_type": "code",
      "metadata": {
        "id": "Q6_gZUyXg6fQ"
      },
      "source": [
        "import string"
      ],
      "execution_count": null,
      "outputs": []
    },
    {
      "cell_type": "code",
      "metadata": {
        "id": "lBUXLIKDgs45"
      },
      "source": [
        "file_prefix = '/content/drive/MyDrive/Colab Notebooks/Manning/Colab-TensorFlow'\n",
        "file = '{}/SMSSpamCollection.txt'.format(file_prefix)\n",
        "rows = [line.strip() for line in open(file)]"
      ],
      "execution_count": null,
      "outputs": []
    },
    {
      "cell_type": "code",
      "metadata": {
        "id": "az2YKV8kg9oK"
      },
      "source": [
        "category = []\n",
        "text = []\n",
        "\n",
        "for record in rows:\n",
        "  cat, txt = record.split('\\t')\n",
        "  cleantxt = txt.lower().translate(str.maketrans('', '', string.punctuation))\n",
        "\n",
        "  category.append(cat)\n",
        "  text.append(cleantxt)"
      ],
      "execution_count": null,
      "outputs": []
    },
    {
      "cell_type": "markdown",
      "metadata": {
        "id": "sjXBircMa2M3"
      },
      "source": [
        "#### 5. Preprocess the data by using `keras.preprocessing` and split it into train and test sets."
      ]
    },
    {
      "cell_type": "code",
      "metadata": {
        "id": "A4Rt04iug-aS"
      },
      "source": [
        "# preprocess the data by using keras.preprocessing\n",
        "import tensorflow as tf"
      ],
      "execution_count": null,
      "outputs": []
    },
    {
      "cell_type": "code",
      "metadata": {
        "id": "uoLYbtp4hMK3"
      },
      "source": [
        "tokenizer = tf.keras.preprocessing.text.Tokenizer()"
      ],
      "execution_count": null,
      "outputs": []
    },
    {
      "cell_type": "code",
      "metadata": {
        "id": "F9cCLj5uixyM"
      },
      "source": [
        "tokenizer.fit_on_texts(text)"
      ],
      "execution_count": null,
      "outputs": []
    },
    {
      "cell_type": "code",
      "metadata": {
        "id": "3phsRnZQi0Tu"
      },
      "source": [
        "# split it into train and test sets\n",
        "from sklearn.model_selection import train_test_split"
      ],
      "execution_count": null,
      "outputs": []
    },
    {
      "cell_type": "code",
      "metadata": {
        "id": "PZPtpK92i74z"
      },
      "source": [
        "X_train, X_test, y_train, y_test = train_test_split(text, category)"
      ],
      "execution_count": null,
      "outputs": []
    },
    {
      "cell_type": "code",
      "metadata": {
        "id": "XSUAqxcIRj6i"
      },
      "source": [
        "# convert X_train to tf.Tensor object\n",
        "import numpy as np"
      ],
      "execution_count": null,
      "outputs": []
    },
    {
      "cell_type": "code",
      "metadata": {
        "id": "03oO-xuyRiqV"
      },
      "source": [
        "X_train_tf = tf.constant(np.asarray(X_train))\n",
        "X_test_tf = tf.constant(np.asarray(X_test))"
      ],
      "execution_count": null,
      "outputs": []
    },
    {
      "cell_type": "code",
      "metadata": {
        "colab": {
          "base_uri": "https://localhost:8080/"
        },
        "id": "SDp7FvctVKxC",
        "outputId": "4e02c374-b62c-498f-baa5-ffebb74a0f02"
      },
      "source": [
        "X_train_tf"
      ],
      "execution_count": null,
      "outputs": [
        {
          "output_type": "execute_result",
          "data": {
            "text/plain": [
              "<tf.Tensor: shape=(4180,), dtype=string, numpy=\n",
              "array([b'a lot of this sickness thing going round take it easy hope u feel better soon lol',\n",
              "       b'get the official england poly ringtone or colour flag on yer mobile for tonights game text tone or flag to 84199 optout txt eng stop box39822 w111wx \\xc2\\xa3150',\n",
              "       b'sorry i guess whenever i can get a hold of my connections maybe an hour or two ill text you',\n",
              "       ...,\n",
              "       b'right it wasnt you who phoned it was someone with a number like yours',\n",
              "       b'hi my darlin im on my way to london and we have just been smashed into by another driver and have a big dent im really missing u what have u been up to xxx',\n",
              "       b'good stuff will do'], dtype=object)>"
            ]
          },
          "metadata": {
            "tags": []
          },
          "execution_count": 12
        }
      ]
    },
    {
      "cell_type": "code",
      "metadata": {
        "colab": {
          "base_uri": "https://localhost:8080/"
        },
        "id": "Me4BFQ0ifnIE",
        "outputId": "1fe19d86-a221-4668-c6d2-adaaeff9e186"
      },
      "source": [
        "X_test_tf"
      ],
      "execution_count": null,
      "outputs": [
        {
          "output_type": "execute_result",
          "data": {
            "text/plain": [
              "<tf.Tensor: shape=(1394,), dtype=string, numpy=\n",
              "array([b'normally i use to drink more water daily',\n",
              "       b'ringtone club gr8 new polys direct to your mobile every week ',\n",
              "       b'hi dahow is the todays class', ...,\n",
              "       b'im fine babes aint been up 2 much tho saw scary movie yest its quite funny want 2mrw afternoon at town or mall or sumthinxx',\n",
              "       b'i cant pick the phone right now pls send a message',\n",
              "       b'go chase after her and run her over while shes crossing the street'],\n",
              "      dtype=object)>"
            ]
          },
          "metadata": {
            "tags": []
          },
          "execution_count": 13
        }
      ]
    },
    {
      "cell_type": "code",
      "metadata": {
        "id": "sM64moXUUlL0"
      },
      "source": [
        "# encode y_train and convert y_train to tf.Tensor object\n",
        "from sklearn import preprocessing"
      ],
      "execution_count": null,
      "outputs": []
    },
    {
      "cell_type": "code",
      "metadata": {
        "id": "SKFOyQH4Ul8Q"
      },
      "source": [
        "le = preprocessing.LabelEncoder()"
      ],
      "execution_count": null,
      "outputs": []
    },
    {
      "cell_type": "code",
      "metadata": {
        "id": "JxooCZVtSb0y"
      },
      "source": [
        "y_train_tf = tf.constant(le.fit_transform(y_train))\n",
        "y_test_tf = tf.constant(le.fit_transform(y_test))"
      ],
      "execution_count": null,
      "outputs": []
    },
    {
      "cell_type": "code",
      "metadata": {
        "colab": {
          "base_uri": "https://localhost:8080/"
        },
        "id": "SUSPgJ1XT-nI",
        "outputId": "b5a83119-a4db-430c-b26f-3220eb1756bf"
      },
      "source": [
        "y_train_tf, y_test_tf"
      ],
      "execution_count": null,
      "outputs": [
        {
          "output_type": "execute_result",
          "data": {
            "text/plain": [
              "(<tf.Tensor: shape=(4180,), dtype=int64, numpy=array([0, 1, 0, ..., 0, 0, 0])>,\n",
              " <tf.Tensor: shape=(1394,), dtype=int64, numpy=array([0, 1, 0, ..., 0, 0, 0])>)"
            ]
          },
          "metadata": {
            "tags": []
          },
          "execution_count": 17
        }
      ]
    },
    {
      "cell_type": "markdown",
      "metadata": {
        "id": "aFIZGE5nba-4"
      },
      "source": [
        "#### 6. Build a simple classifier either with TensorFlow or with Keras. If you are not familiar with TensorFlow and/or neural networks, simply follow the steps described in one of the classification tutorials at the official TF Guides (see resources)."
      ]
    },
    {
      "cell_type": "code",
      "metadata": {
        "id": "xau18DBPVBrP"
      },
      "source": [
        "import tensorflow_hub as hub"
      ],
      "execution_count": null,
      "outputs": []
    },
    {
      "cell_type": "code",
      "metadata": {
        "id": "Ohs0Bkc6WRKD"
      },
      "source": [
        "embedding = 'https://tfhub.dev/google/nnlm-en-dim50/2'\n",
        "hub_layer = hub.KerasLayer(embedding, input_shape=[], dtype=tf.string, trainable=True)"
      ],
      "execution_count": null,
      "outputs": []
    },
    {
      "cell_type": "code",
      "metadata": {
        "colab": {
          "base_uri": "https://localhost:8080/"
        },
        "id": "uKxJZiKPWfzs",
        "outputId": "b549cdc3-a96f-4254-bf15-b6c386b2c7ee"
      },
      "source": [
        "model = tf.keras.Sequential()\n",
        "model.add(hub_layer)\n",
        "model.add(tf.keras.layers.Dense(16, activation='relu'))\n",
        "model.add(tf.keras.layers.Dense(1))\n",
        "\n",
        "model.summary()"
      ],
      "execution_count": null,
      "outputs": [
        {
          "output_type": "stream",
          "text": [
            "Model: \"sequential\"\n",
            "_________________________________________________________________\n",
            "Layer (type)                 Output Shape              Param #   \n",
            "=================================================================\n",
            "keras_layer (KerasLayer)     (None, 50)                48190600  \n",
            "_________________________________________________________________\n",
            "dense (Dense)                (None, 16)                816       \n",
            "_________________________________________________________________\n",
            "dense_1 (Dense)              (None, 1)                 17        \n",
            "=================================================================\n",
            "Total params: 48,191,433\n",
            "Trainable params: 48,191,433\n",
            "Non-trainable params: 0\n",
            "_________________________________________________________________\n"
          ],
          "name": "stdout"
        }
      ]
    },
    {
      "cell_type": "code",
      "metadata": {
        "id": "R5UgnYaGWuWL"
      },
      "source": [
        "model.compile(optimizer='adam',\n",
        "              loss=tf.keras.losses.BinaryCrossentropy(from_logits=True),\n",
        "              metrics=['accuracy'])"
      ],
      "execution_count": null,
      "outputs": []
    },
    {
      "cell_type": "markdown",
      "metadata": {
        "id": "hvlOlgCUnjyV"
      },
      "source": [
        "#### 8. Use a callback function to save a checkpoint. Save the checkpoints to your Google Drive. If you get stuck, feel free to check our reference implementation!"
      ]
    },
    {
      "cell_type": "code",
      "metadata": {
        "id": "tO9kt_DUb9sX"
      },
      "source": [
        "# callback function to save a checkpoint\n",
        "path = '{}/checkpoints/'.format(file_prefix)\n",
        "model_checkpoint_callback = tf.keras.callbacks.ModelCheckpoint(\n",
        "    filepath=path,\n",
        "    save_weights_only=True,\n",
        "    monitor='val_accuracy',\n",
        "    mode='max',\n",
        "    save_best_only=True)"
      ],
      "execution_count": null,
      "outputs": []
    },
    {
      "cell_type": "markdown",
      "metadata": {
        "id": "fSc2xoK-b2M8"
      },
      "source": [
        "#### 7. Train your network by using the training data. Use at least 10 epochs. You can use even more. The more you use, the better it is."
      ]
    },
    {
      "cell_type": "code",
      "metadata": {
        "colab": {
          "base_uri": "https://localhost:8080/"
        },
        "id": "eE_lhV3vXDxV",
        "outputId": "6ac23564-eb37-4a68-f183-ae61f3de217d"
      },
      "source": [
        "# train your network by using the training data, use at least 10 epochs\n",
        "history = model.fit(X_train_tf, y_train_tf,\n",
        "                    epochs=20,\n",
        "                    validation_data=(X_test_tf, y_test_tf),\n",
        "                    verbose=1,\n",
        "                    callbacks=[model_checkpoint_callback])"
      ],
      "execution_count": null,
      "outputs": [
        {
          "output_type": "stream",
          "text": [
            "Epoch 1/20\n",
            "131/131 [==============================] - 65s 489ms/step - loss: 0.3416 - accuracy: 0.8758 - val_loss: 0.1600 - val_accuracy: 0.9405\n",
            "Epoch 2/20\n",
            "131/131 [==============================] - 65s 493ms/step - loss: 0.1021 - accuracy: 0.9730 - val_loss: 0.0844 - val_accuracy: 0.9813\n",
            "Epoch 3/20\n",
            "131/131 [==============================] - 64s 492ms/step - loss: 0.0455 - accuracy: 0.9888 - val_loss: 0.0716 - val_accuracy: 0.9842\n",
            "Epoch 4/20\n",
            "131/131 [==============================] - 65s 493ms/step - loss: 0.0235 - accuracy: 0.9943 - val_loss: 0.0697 - val_accuracy: 0.9842\n",
            "Epoch 5/20\n",
            "131/131 [==============================] - 63s 482ms/step - loss: 0.0127 - accuracy: 0.9974 - val_loss: 0.0709 - val_accuracy: 0.9849\n",
            "Epoch 6/20\n",
            "131/131 [==============================] - 64s 492ms/step - loss: 0.0075 - accuracy: 0.9988 - val_loss: 0.0734 - val_accuracy: 0.9849\n",
            "Epoch 7/20\n",
            "131/131 [==============================] - 62s 476ms/step - loss: 0.0045 - accuracy: 0.9993 - val_loss: 0.0763 - val_accuracy: 0.9857\n",
            "Epoch 8/20\n",
            "131/131 [==============================] - 64s 490ms/step - loss: 0.0031 - accuracy: 0.9995 - val_loss: 0.0789 - val_accuracy: 0.9857\n",
            "Epoch 9/20\n",
            "131/131 [==============================] - 63s 479ms/step - loss: 0.0019 - accuracy: 1.0000 - val_loss: 0.0816 - val_accuracy: 0.9857\n",
            "Epoch 10/20\n",
            "131/131 [==============================] - 69s 530ms/step - loss: 0.0014 - accuracy: 1.0000 - val_loss: 0.0835 - val_accuracy: 0.9857\n",
            "Epoch 11/20\n",
            "131/131 [==============================] - 63s 484ms/step - loss: 0.0010 - accuracy: 1.0000 - val_loss: 0.0856 - val_accuracy: 0.9857\n",
            "Epoch 12/20\n",
            "131/131 [==============================] - 63s 484ms/step - loss: 7.8757e-04 - accuracy: 1.0000 - val_loss: 0.0881 - val_accuracy: 0.9857\n",
            "Epoch 13/20\n",
            "131/131 [==============================] - 63s 482ms/step - loss: 6.2792e-04 - accuracy: 1.0000 - val_loss: 0.0899 - val_accuracy: 0.9857\n",
            "Epoch 14/20\n",
            "131/131 [==============================] - 64s 490ms/step - loss: 5.0790e-04 - accuracy: 1.0000 - val_loss: 0.0916 - val_accuracy: 0.9849\n",
            "Epoch 15/20\n",
            "131/131 [==============================] - 63s 484ms/step - loss: 4.1787e-04 - accuracy: 1.0000 - val_loss: 0.0932 - val_accuracy: 0.9849\n",
            "Epoch 16/20\n",
            "131/131 [==============================] - 63s 484ms/step - loss: 3.5092e-04 - accuracy: 1.0000 - val_loss: 0.0947 - val_accuracy: 0.9849\n",
            "Epoch 17/20\n",
            "131/131 [==============================] - 63s 485ms/step - loss: 2.9494e-04 - accuracy: 1.0000 - val_loss: 0.0965 - val_accuracy: 0.9849\n",
            "Epoch 18/20\n",
            "131/131 [==============================] - 63s 484ms/step - loss: 2.5168e-04 - accuracy: 1.0000 - val_loss: 0.0978 - val_accuracy: 0.9849\n",
            "Epoch 19/20\n",
            "131/131 [==============================] - 64s 485ms/step - loss: 2.1584e-04 - accuracy: 1.0000 - val_loss: 0.0994 - val_accuracy: 0.9849\n",
            "Epoch 20/20\n",
            "131/131 [==============================] - 64s 485ms/step - loss: 1.8631e-04 - accuracy: 1.0000 - val_loss: 0.1007 - val_accuracy: 0.9849\n"
          ],
          "name": "stdout"
        }
      ]
    },
    {
      "cell_type": "markdown",
      "metadata": {
        "id": "gOKXuPkydzah"
      },
      "source": [
        "#### 9. Run the model on your test data and evaluate your model."
      ]
    },
    {
      "cell_type": "code",
      "metadata": {
        "colab": {
          "base_uri": "https://localhost:8080/"
        },
        "id": "O8FaDQdyXRFJ",
        "outputId": "2856215f-bb71-4d15-b47e-c8e805c59c1a"
      },
      "source": [
        "results = model.evaluate(X_test_tf, y_test_tf, verbose=2)\n",
        "\n",
        "for name, value in zip(model.metrics_names, results):\n",
        "  print(\"%s: %.3f\" % (name, value))"
      ],
      "execution_count": null,
      "outputs": [
        {
          "output_type": "stream",
          "text": [
            "44/44 - 0s - loss: 0.1007 - accuracy: 0.9849\n",
            "loss: 0.101\n",
            "accuracy: 0.985\n"
          ],
          "name": "stdout"
        }
      ]
    },
    {
      "cell_type": "markdown",
      "metadata": {
        "id": "enkCiDKtd1n9"
      },
      "source": [
        "#### 10. Save your model into your Google Drive folder."
      ]
    },
    {
      "cell_type": "code",
      "metadata": {
        "colab": {
          "base_uri": "https://localhost:8080/"
        },
        "id": "U1fpobkfjeN5",
        "outputId": "c0993ae5-d21a-4162-c07f-a39186c78b52"
      },
      "source": [
        "model.save('{}/TensorFlow_model'.format(file_prefix))"
      ],
      "execution_count": null,
      "outputs": [
        {
          "output_type": "stream",
          "text": [
            "INFO:tensorflow:Assets written to: /content/drive/MyDrive/Colab Notebooks/Manning/Colab-TensorFlow/TensorFlow_model/assets\n"
          ],
          "name": "stdout"
        },
        {
          "output_type": "stream",
          "text": [
            "INFO:tensorflow:Assets written to: /content/drive/MyDrive/Colab Notebooks/Manning/Colab-TensorFlow/TensorFlow_model/assets\n"
          ],
          "name": "stderr"
        }
      ]
    },
    {
      "cell_type": "markdown",
      "metadata": {
        "id": "_1Uw7zCrbdvP"
      },
      "source": [
        "##### References:\n",
        "1. https://www.tensorflow.org/tutorials/keras/text_classification_with_hub\n",
        "2. https://www.tensorflow.org/api_docs/python/tf/keras/callbacks/ModelCheckpoint"
      ]
    }
  ]
}