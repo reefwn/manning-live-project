{
  "nbformat": 4,
  "nbformat_minor": 0,
  "metadata": {
    "colab": {
      "name": "WorkFlow-1.ipynb",
      "provenance": [],
      "collapsed_sections": [],
      "authorship_tag": "ABX9TyM5YvL/qd41ZCdLcoMoc2/C",
      "include_colab_link": true
    },
    "kernelspec": {
      "name": "python3",
      "display_name": "Python 3"
    },
    "language_info": {
      "name": "python"
    }
  },
  "cells": [
    {
      "cell_type": "markdown",
      "metadata": {
        "id": "view-in-github",
        "colab_type": "text"
      },
      "source": [
        "<a href=\"https://colab.research.google.com/github/reefwn/manning-live-project/blob/main/getting-started-with-google-colab-using-tensorflow/workflow-1.ipynb\" target=\"_parent\"><img src=\"https://colab.research.google.com/assets/colab-badge.svg\" alt=\"Open In Colab\"/></a>"
      ]
    },
    {
      "cell_type": "markdown",
      "metadata": {
        "id": "JrxLUcGGgFrQ"
      },
      "source": [
        "#### 1. What is Colab? Watch the Get started with Google Colaboratory video to get a high level overview of Colab."
      ]
    },
    {
      "cell_type": "markdown",
      "metadata": {
        "id": "IAtJjQMvkW-F"
      },
      "source": [
        "https://www.youtube.com/watch?v=inN8seMm7UI"
      ]
    },
    {
      "cell_type": "markdown",
      "metadata": {
        "id": "5Jx131lgkTxI"
      },
      "source": [
        "#### 2. If you don’t have a Google account, please register and sign in."
      ]
    },
    {
      "cell_type": "markdown",
      "metadata": {
        "id": "oAQ5IB39gR6a"
      },
      "source": [
        "#### 3. First, make a simple Notebook that contains two cells:\n",
        "\n",
        "a) a Markdown cell with some LaTeX equation describing the Pythagorean theorem,\n",
        "\n",
        "b) a Code cell in which you implement a function that returns the Hypotenuse given the Adjacent and the Opposite.\n",
        "\n",
        "Print the return value of the function after calling it with arguments 1 and 2."
      ]
    },
    {
      "cell_type": "code",
      "metadata": {
        "id": "ij9QG7rmL7vG"
      },
      "source": [
        "# a Markdown cell with some LaTeX equation describing the Pythagorean theorem"
      ],
      "execution_count": 1,
      "outputs": []
    },
    {
      "cell_type": "markdown",
      "metadata": {
        "id": "oA1YqilT2Z0P"
      },
      "source": [
        "$$ a^2+b^2=c^2 $$"
      ]
    },
    {
      "cell_type": "code",
      "metadata": {
        "id": "jZ4yCHvo2i-K"
      },
      "source": [
        "# a Code cell in which you implement a function that returns the Hypotenuse given the Adjacent and the Opposite\n",
        "import math\n",
        "def hypotenuse(a, b):\n",
        "  return math.sqrt((a**2 + b**2))"
      ],
      "execution_count": 2,
      "outputs": []
    },
    {
      "cell_type": "code",
      "metadata": {
        "colab": {
          "base_uri": "https://localhost:8080/"
        },
        "id": "indTQzmC3TuM",
        "outputId": "161fe521-342f-443f-991e-23e934a0f1d0"
      },
      "source": [
        "# print the return value of the function after calling it with arguments 1 and 2\n",
        "hypotenuse(1, 2)"
      ],
      "execution_count": 3,
      "outputs": [
        {
          "output_type": "execute_result",
          "data": {
            "text/plain": [
              "2.23606797749979"
            ]
          },
          "metadata": {
            "tags": []
          },
          "execution_count": 3
        }
      ]
    },
    {
      "cell_type": "markdown",
      "metadata": {
        "id": "4g5xwOduguBq"
      },
      "source": [
        "#### 4. Save the Notebook into your Google Drive."
      ]
    },
    {
      "cell_type": "markdown",
      "metadata": {
        "id": "CX3DNY32g6UX"
      },
      "source": [
        "![image.png](data:image/png;base64,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)"
      ]
    },
    {
      "cell_type": "markdown",
      "metadata": {
        "id": "zaowWAKqg8xA"
      },
      "source": [
        "#### 5. Add a new code cell. Import statements to import scikit-learn, TensorFlow, PyTorch, and NumPy. Evaluate the cell. The cell should run without running into any problem. Colab comes with the main data science packages, so you don’t have to install them. Whenever you need to install something, you can do it the “Jupyter way”, namely by preceding pip install PackageName with an exclamation mark."
      ]
    },
    {
      "cell_type": "code",
      "metadata": {
        "id": "Z3G5B0xp3YDZ"
      },
      "source": [
        "# import statements to import scikit-learn, TensorFlow, PyTorch, and NumPy\n",
        "import sklearn\n",
        "import tensorflow as tf\n",
        "import torch\n",
        "import numpy as np"
      ],
      "execution_count": 4,
      "outputs": []
    },
    {
      "cell_type": "markdown",
      "metadata": {
        "id": "BBbosiiYhC2O"
      },
      "source": [
        "#### 6. Start a new text cell that contains at least a title, for example, \"Naïve Bayes\"."
      ]
    },
    {
      "cell_type": "markdown",
      "metadata": {
        "id": "2C3thbm34uZd"
      },
      "source": [
        "# Naive Bayes"
      ]
    },
    {
      "cell_type": "markdown",
      "metadata": {
        "id": "sZfdz435hKti"
      },
      "source": [
        "#### 7. Mount your Google Drive to your Colab Notebook."
      ]
    },
    {
      "cell_type": "code",
      "metadata": {
        "colab": {
          "base_uri": "https://localhost:8080/"
        },
        "id": "Bbc8HigXae9a",
        "outputId": "b52f5a85-2e10-49de-f02a-dfe93683bde5"
      },
      "source": [
        "from google.colab import drive\n",
        "drive.mount('/content/drive')"
      ],
      "execution_count": 5,
      "outputs": [
        {
          "output_type": "stream",
          "text": [
            "Mounted at /content/drive\n"
          ],
          "name": "stdout"
        }
      ]
    },
    {
      "cell_type": "markdown",
      "metadata": {
        "id": "3uLN2v1JhgIU"
      },
      "source": [
        "#### 8. Download the SMS Spam Collection dataset, uncompress it and upload it to your Google Drive. You can find more information on the dataset at its [website](https://www.dt.fee.unicamp.br/~tiago/smsspamcollection/)."
      ]
    },
    {
      "cell_type": "markdown",
      "metadata": {
        "id": "MkwMG9sFh2In"
      },
      "source": [
        "![image.png](data:image/png;base64,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)"
      ]
    },
    {
      "cell_type": "markdown",
      "metadata": {
        "id": "VhFCithJh6Te"
      },
      "source": [
        "#### 9. First, read in the SMS Spam Collection data. Make two lists:\n",
        "\n",
        "a) A list that contains the category of the SMS (ham or spam),\n",
        "\n",
        "b) A list that contains the text of the SMS. Try to put it into all lowercase and filter out punctuation marks."
      ]
    },
    {
      "cell_type": "code",
      "metadata": {
        "id": "V6hBELcTSRR-"
      },
      "source": [
        "import string"
      ],
      "execution_count": 6,
      "outputs": []
    },
    {
      "cell_type": "code",
      "metadata": {
        "id": "do5i_NvOig_j"
      },
      "source": [
        "file_prefix = '/content/drive/MyDrive/Colab Notebooks/Manning/Colab-TensorFlow'"
      ],
      "execution_count": 7,
      "outputs": []
    },
    {
      "cell_type": "code",
      "metadata": {
        "id": "bsuKVu0d4vhx"
      },
      "source": [
        "file = '{}/SMSSpamCollection.txt'.format(file_prefix)"
      ],
      "execution_count": 8,
      "outputs": []
    },
    {
      "cell_type": "code",
      "metadata": {
        "id": "5UZNY7KB5rtz"
      },
      "source": [
        "rows = [line.strip() for line in open(file)]"
      ],
      "execution_count": 9,
      "outputs": []
    },
    {
      "cell_type": "code",
      "metadata": {
        "id": "q0fwvrQlJrHH"
      },
      "source": [
        "# a list that contains the category of the SMS (ham or spam)\n",
        "# a list that contains the text of the SMS\n",
        "category = []\n",
        "text = []\n",
        "\n",
        "for record in rows:\n",
        "  cat, txt = record.split(\"\\t\")\n",
        "  cleantxt = txt.lower().translate(str.maketrans(\"\", \"\", string.punctuation))\n",
        "\n",
        "  category.append(cat)\n",
        "  text.append(cleantxt)"
      ],
      "execution_count": 10,
      "outputs": []
    },
    {
      "cell_type": "markdown",
      "metadata": {
        "id": "mK7-pOzfiEex"
      },
      "source": [
        "#### 10. Split the data into a train and a test dataset."
      ]
    },
    {
      "cell_type": "code",
      "metadata": {
        "id": "pICET3TYHZKm"
      },
      "source": [
        "from sklearn.model_selection import train_test_split"
      ],
      "execution_count": 11,
      "outputs": []
    },
    {
      "cell_type": "code",
      "metadata": {
        "id": "qyAMVl-cLXnc"
      },
      "source": [
        "X_train, X_test, y_train, y_test = train_test_split(text, category)"
      ],
      "execution_count": 12,
      "outputs": []
    },
    {
      "cell_type": "markdown",
      "metadata": {
        "id": "3M0nAAG1iKMX"
      },
      "source": [
        "#### 11. Use `sklearn.feature_extraction.text.CountVectorizer` to vectorize the training and test texts. Do not forget to use the words in the training set as a vocabulary for vectorization."
      ]
    },
    {
      "cell_type": "code",
      "metadata": {
        "id": "5LkVeQQ8Lw5K"
      },
      "source": [
        "# vectorize the training and test texts\n",
        "from sklearn.feature_extraction.text import CountVectorizer"
      ],
      "execution_count": 13,
      "outputs": []
    },
    {
      "cell_type": "code",
      "metadata": {
        "id": "MRloLLHnMqVD"
      },
      "source": [
        "vectorizer = CountVectorizer()\n",
        "X_train_v = vectorizer.fit_transform(X_train)"
      ],
      "execution_count": 14,
      "outputs": []
    },
    {
      "cell_type": "code",
      "metadata": {
        "id": "oGRkEJYDN8CE"
      },
      "source": [
        "vector = CountVectorizer(vocabulary=vectorizer.vocabulary_)\n",
        "X_test_v = vector.fit_transform(X_test)"
      ],
      "execution_count": 15,
      "outputs": []
    },
    {
      "cell_type": "markdown",
      "metadata": {
        "id": "HV07oBnliUHz"
      },
      "source": [
        "#### 12. Save the vectorized training and test data along with the labels."
      ]
    },
    {
      "cell_type": "code",
      "metadata": {
        "id": "uNo_O52dOjJS"
      },
      "source": [
        "# save the vectorized training and test data along with the labels\n",
        "from pickle import dump"
      ],
      "execution_count": 16,
      "outputs": []
    },
    {
      "cell_type": "code",
      "metadata": {
        "id": "uMhGcOspPy-5"
      },
      "source": [
        "output = '{}/vectorized_data.pkl'.format(file_prefix)"
      ],
      "execution_count": 17,
      "outputs": []
    },
    {
      "cell_type": "code",
      "metadata": {
        "id": "9040nqw9PSvR"
      },
      "source": [
        "dump([X_train_v, X_test_v, y_train, y_test], open(output, 'wb'))"
      ],
      "execution_count": 18,
      "outputs": []
    },
    {
      "cell_type": "markdown",
      "metadata": {
        "id": "SSDNHv31ime3"
      },
      "source": [
        "#### 13. Train a MultinomialNB classifier based on the training data."
      ]
    },
    {
      "cell_type": "code",
      "metadata": {
        "id": "1qBrh8VHPmhN"
      },
      "source": [
        "# train a MultinomialNB classifier based on the training data\n",
        "from sklearn.naive_bayes import MultinomialNB"
      ],
      "execution_count": 19,
      "outputs": []
    },
    {
      "cell_type": "code",
      "metadata": {
        "id": "gKUeriZdQIAz"
      },
      "source": [
        "mnNB = MultinomialNB()"
      ],
      "execution_count": 20,
      "outputs": []
    },
    {
      "cell_type": "code",
      "metadata": {
        "colab": {
          "base_uri": "https://localhost:8080/"
        },
        "id": "GT7DIqCSQLWe",
        "outputId": "bd4aa570-15e0-4ac8-e9d0-6cb41369daab"
      },
      "source": [
        "mnNB.fit(X_train_v, y_train)"
      ],
      "execution_count": 21,
      "outputs": [
        {
          "output_type": "execute_result",
          "data": {
            "text/plain": [
              "MultinomialNB(alpha=1.0, class_prior=None, fit_prior=True)"
            ]
          },
          "metadata": {
            "tags": []
          },
          "execution_count": 21
        }
      ]
    },
    {
      "cell_type": "markdown",
      "metadata": {
        "id": "L9TFOTNliow1"
      },
      "source": [
        "#### 14. Save your classifier on Google Drive using the joblib package."
      ]
    },
    {
      "cell_type": "code",
      "metadata": {
        "id": "rCb6JjNLQUs8"
      },
      "source": [
        "# save classifier on Google Drive using the joblib package\n",
        "from joblib import dump"
      ],
      "execution_count": 22,
      "outputs": []
    },
    {
      "cell_type": "code",
      "metadata": {
        "id": "FCYUYSz7Q4Cn"
      },
      "source": [
        "output = '{}/multinomialNB_model.joblib'.format(file_prefix)"
      ],
      "execution_count": 23,
      "outputs": []
    },
    {
      "cell_type": "code",
      "metadata": {
        "colab": {
          "base_uri": "https://localhost:8080/"
        },
        "id": "Sod61hsEQyH1",
        "outputId": "d776742a-770d-416d-c79a-9a923e436eb9"
      },
      "source": [
        "dump(mnNB, output)"
      ],
      "execution_count": 24,
      "outputs": [
        {
          "output_type": "execute_result",
          "data": {
            "text/plain": [
              "['/content/drive/MyDrive/Colab Notebooks/Manning/Colab-TensorFlow/multinomialNB_model.joblib']"
            ]
          },
          "metadata": {
            "tags": []
          },
          "execution_count": 24
        }
      ]
    },
    {
      "cell_type": "markdown",
      "metadata": {
        "id": "wizTOlxDi54G"
      },
      "source": [
        "#### 15. Start a new code cell, load your saved model and evaluate it by using `sklearn.metrics.classification_report`."
      ]
    },
    {
      "cell_type": "code",
      "metadata": {
        "id": "bKwDRV-qQ8JS"
      },
      "source": [
        "# load your saved model\n",
        "from joblib import load"
      ],
      "execution_count": 25,
      "outputs": []
    },
    {
      "cell_type": "code",
      "metadata": {
        "id": "5j9nRFevRN4Q"
      },
      "source": [
        "mnNB = load(output)"
      ],
      "execution_count": 26,
      "outputs": []
    },
    {
      "cell_type": "code",
      "metadata": {
        "id": "7cLNgOoSRb77"
      },
      "source": [
        "y_pred = mnNB.predict(X_test_v)"
      ],
      "execution_count": 27,
      "outputs": []
    },
    {
      "cell_type": "code",
      "metadata": {
        "id": "dCz8mBWeRsz4"
      },
      "source": [
        "# evaluate it by using sklearn.metrics.classification_report\n",
        "from sklearn.metrics import classification_report"
      ],
      "execution_count": 28,
      "outputs": []
    },
    {
      "cell_type": "code",
      "metadata": {
        "colab": {
          "base_uri": "https://localhost:8080/"
        },
        "id": "FnhDEf-3RgZd",
        "outputId": "ad35d666-e980-45be-e430-0e9b8699ef82"
      },
      "source": [
        "print(classification_report(y_test, y_pred))"
      ],
      "execution_count": 29,
      "outputs": [
        {
          "output_type": "stream",
          "text": [
            "              precision    recall  f1-score   support\n",
            "\n",
            "         ham       0.99      0.99      0.99      1200\n",
            "        spam       0.96      0.92      0.94       194\n",
            "\n",
            "    accuracy                           0.98      1394\n",
            "   macro avg       0.97      0.96      0.97      1394\n",
            "weighted avg       0.98      0.98      0.98      1394\n",
            "\n"
          ],
          "name": "stdout"
        }
      ]
    },
    {
      "cell_type": "markdown",
      "metadata": {
        "id": "6QOr9ayfmBrO"
      },
      "source": [
        "#### References:\n",
        "1. https://careerkarma.com/blog/python-remove-punctuation/\n",
        "2. https://scikit-learn.org/stable/modules/generated/sklearn.feature_extraction.text.CountVectorizer.html\n",
        "3. https://wiki.python.org/moin/UsingPickle\n",
        "4. https://joblib.readthedocs.io/en/latest/index.html"
      ]
    },
    {
      "cell_type": "code",
      "metadata": {
        "id": "vJtDzVHHSht8"
      },
      "source": [
        ""
      ],
      "execution_count": 29,
      "outputs": []
    }
  ]
}